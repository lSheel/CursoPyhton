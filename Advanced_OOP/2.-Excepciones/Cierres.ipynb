{
 "cells": [
  {
   "cell_type": "markdown",
   "metadata": {},
   "source": [
    "# Cierres\n",
    "Los **cierres** de alguna manera se podria decir que son funciones (interiores) dentro de otra funcion (exterior) que utilizan sus variables sin necesisad de pedir parametro. \n",
    "Cierres es una técnica que permite almacenar valores a pesar de que el contexto en el que se crearon ya no existe (en este caso la funcion exterior)."
   ]
  },
  {
   "cell_type": "code",
   "execution_count": 5,
   "metadata": {},
   "outputs": [
    {
     "name": "stdout",
     "output_type": "stream",
     "text": [
      "1 Hla\n"
     ]
    }
   ],
   "source": [
    "# Fucion con cierre\n",
    "def exterior(par):\n",
    "    loc = par\n",
    "\n",
    "    def interior():\n",
    "        return loc\n",
    "\n",
    "    return interior\n",
    "\n",
    "\n",
    "var = 1\n",
    "fun = exterior(var)\n",
    "print(fun())\n"
   ]
  },
  {
   "cell_type": "code",
   "execution_count": 3,
   "metadata": {},
   "outputs": [
    {
     "name": "stdout",
     "output_type": "stream",
     "text": [
      "1\n"
     ]
    }
   ],
   "source": [
    "# Funcion con el mismo algoritmo\n",
    "\n",
    "def exterior(par):\n",
    "    loc = par\n",
    "    return interior\n",
    "\n",
    "\n",
    "def interior(hola):\n",
    "    hola = exterior.loc\n",
    "    return hola\n",
    "\n",
    "\n",
    "ejem = 1\n",
    "func = exterior(ejem)\n",
    "print(fun())"
   ]
  },
  {
   "cell_type": "code",
   "execution_count": 6,
   "metadata": {},
   "outputs": [
    {
     "name": "stdout",
     "output_type": "stream",
     "text": [
      "0 0 0\n",
      "1 1 1\n",
      "2 4 8\n",
      "3 9 27\n",
      "4 16 64\n"
     ]
    }
   ],
   "source": [
    "def crearcierre(par):\n",
    "    loc = par\n",
    "\n",
    "    def potencia(p):\n",
    "        return p ** loc\n",
    "\n",
    "    return potencia\n",
    "\n",
    "\n",
    "fsqr = crearcierre(2)\n",
    "fcub = crearcierre(3)\n",
    "for i in range(5):\n",
    "    print(i, fsqr(i), fcub(i))"
   ]
  }
 ],
 "metadata": {
  "interpreter": {
   "hash": "21e2b306ac38479bf081e2e54b18866e36f015b4544119a27eb6cb52b6571e97"
  },
  "kernelspec": {
   "display_name": "Python 3.10.0 64-bit",
   "language": "python",
   "name": "python3"
  },
  "language_info": {
   "codemirror_mode": {
    "name": "ipython",
    "version": 3
   },
   "file_extension": ".py",
   "mimetype": "text/x-python",
   "name": "python",
   "nbconvert_exporter": "python",
   "pygments_lexer": "ipython3",
   "version": "3.10.0"
  },
  "orig_nbformat": 4
 },
 "nbformat": 4,
 "nbformat_minor": 2
}
