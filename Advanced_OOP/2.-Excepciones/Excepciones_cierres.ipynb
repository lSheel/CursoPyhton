{
 "cells": [
  {
   "cell_type": "markdown",
   "metadata": {},
   "source": [
    "# Ejemplo cierres y excepciones\n"
   ]
  },
  {
   "cell_type": "code",
   "execution_count": 1,
   "metadata": {},
   "outputs": [
    {
     "name": "stdout",
     "output_type": "stream",
     "text": [
      "{'primera': 1}\n",
      "{'primera': 2, 'segunda': 3}\n",
      "{'primera': 4, 'tercera': 5}\n",
      "Golabhksd\n"
     ]
    }
   ],
   "source": [
    "class ClaseEjemplo:\n",
    "    def __init__(self, val = 1):\n",
    "        self.primera = val\n",
    "\n",
    "    def setSegunda(self, val):\n",
    "        self.segunda = val\n",
    "\n",
    "\n",
    "objetoEjemplo1 = ClaseEjemplo()\n",
    "objetoEjemplo2 = ClaseEjemplo(2)\n",
    "\n",
    "objetoEjemplo2.setSegunda(3)\n",
    "\n",
    "objetoEjemplo3 = ClaseEjemplo(4)\n",
    "objetoEjemplo3.tercera = 5\n",
    "\n",
    "\n",
    "print(objetoEjemplo1.__dict__)\n",
    "print(objetoEjemplo2.__dict__)\n",
    "print(objetoEjemplo3.__dict__)\n",
    "\n",
    "\n",
    "print(\"Golabhksd\")\n"
   ]
  },
  {
   "cell_type": "markdown",
   "metadata": {},
   "source": [
    "## Ejemplo excepciones"
   ]
  },
  {
   "cell_type": "code",
   "execution_count": null,
   "metadata": {},
   "outputs": [],
   "source": [
    "class PizzaError(Exception):\n",
    "    def __init__(self, pizza, mensaje):\n",
    "        Exception.__init__(self, mensaje)\n",
    "        self.pizza = pizza\n",
    "\n",
    "\n",
    "class DemasiadoQuesoError(PizzaError):\n",
    "    def __init__(self, pizza, queso, mensaje):\n",
    "        PizzaError.__init__(self, pizza, mensaje)\n",
    "        self.queso = queso\n",
    "\n",
    "\n",
    "def makePizza(pizza, queso):\n",
    "    if pizza not in ['margherita', 'capricciosa', 'calzone']:\n",
    "        raise PizzaError(pizza, \"no hay tal pizza en el menú\")\n",
    "    if queso > 100:\n",
    "        raise DemasiadoQuesoError(pizza, queso, \"demasiado queso\")\n",
    "    print(\"¡Pizza lista!\")\n",
    "\n",
    "\n",
    "for (pz, ch) in [('calzone', 0), ('margherita', 110), ('mafia', 20)]:\n",
    "    try:\n",
    "        makePizza(pz, ch)\n",
    "    except DemasiadoQuesoError as tmce:\n",
    "        print(tmce, ':', tmce.queso)\n",
    "    except PizzaError as pe:\n",
    "        print(pe, ':', pe.pizza)"
   ]
  },
  {
   "cell_type": "markdown",
   "metadata": {},
   "source": [
    "## Ejemplo excepciones 2"
   ]
  },
  {
   "cell_type": "code",
   "execution_count": null,
   "metadata": {},
   "outputs": [],
   "source": [
    "class MyZeroDivisionError(ZeroDivisionError):\n",
    "    pass\n",
    "\n",
    "\n",
    "def doTheDivision(mine):\n",
    "    if mine:\n",
    "        raise MyZeroDivisionError(\"peores noticias\")\n",
    "    else:\n",
    "        raise ZeroDivisionError(\"malas noticias\")\n",
    "\n",
    "\n",
    "for mode in [False, True]:\n",
    "    try:\n",
    "        doTheDivision(mode)\n",
    "    except ZeroDivisionError:\n",
    "        print('División entre cero')\n",
    "\n",
    "for mode in [False, True]:\n",
    "    try:\n",
    "        doTheDivision(mode)\n",
    "    except MyZeroDivisionError:\n",
    "        print('Mi división entre cero')\n",
    "    except ZeroDivisionError:\n",
    "        print('División entre cero original')"
   ]
  },
  {
   "cell_type": "markdown",
   "metadata": {},
   "source": [
    "## Ejemplo excepciones 3"
   ]
  },
  {
   "cell_type": "code",
   "execution_count": null,
   "metadata": {},
   "outputs": [],
   "source": [
    "#Ejemplo de la impresion de todos las posibles excepciones que hay en python\n",
    "\n",
    "def printExcTree(thisclass, nest = 0):\n",
    "    if nest > 1:\n",
    "        print(\"   |\" * (nest - 1), end=\"\")\n",
    "    if nest > 0:\n",
    "        print(\"   +---\", end=\"\")\n",
    "\n",
    "    print(thisclass.__name__)\n",
    "\n",
    "    for subclass in thisclass.__subclasses__():\n",
    "        printExcTree(subclass, nest + 1)\n",
    "#Imprime todo los tipos de excepciones\n",
    "printExcTree(BaseException)\n"
   ]
  },
  {
   "cell_type": "markdown",
   "metadata": {},
   "source": [
    "## Ejemplo excepciones 4"
   ]
  },
  {
   "cell_type": "code",
   "execution_count": null,
   "metadata": {},
   "outputs": [],
   "source": [
    "def printargs(args):\n",
    "    lng = len(args)\n",
    "    if lng == 0:\n",
    "        print(\"\")\n",
    "    elif lng == 1:\n",
    "        print(args[0])\n",
    "    else:\n",
    "        print(str(args))\n",
    "\n",
    "\n",
    "try:\n",
    "    raise Exception\n",
    "except Exception as e:\n",
    "    print(e, e.__str__(), sep=' : ', end=' : ')\n",
    "    printargs(e.args)\n",
    "\n",
    "try:\n",
    "    raise Exception(\"mi excepción\")\n",
    "except Exception as e:\n",
    "    print(e, e.__str__(), sep=' : ', end=' : ')\n",
    "    printargs(e.args)\n",
    "\n",
    "try:\n",
    "    raise Exception(\"mi\", \"excepción\")\n",
    "except Exception as e:\n",
    "    print(e, e.__str__(), sep=' : ', end=' : ')\n",
    "    printargs(e.args)"
   ]
  }
 ],
 "metadata": {
  "interpreter": {
   "hash": "dae79fa92069588ff2a88be78750aecddc66737e9181a2d70fcbab7f0f7f6ca9"
  },
  "kernelspec": {
   "display_name": "Python 3.10.0 ('venv': venv)",
   "language": "python",
   "name": "python3"
  },
  "language_info": {
   "codemirror_mode": {
    "name": "ipython",
    "version": 3
   },
   "file_extension": ".py",
   "mimetype": "text/x-python",
   "name": "python",
   "nbconvert_exporter": "python",
   "pygments_lexer": "ipython3",
   "version": "3.10.0"
  },
  "orig_nbformat": 4
 },
 "nbformat": 4,
 "nbformat_minor": 2
}
