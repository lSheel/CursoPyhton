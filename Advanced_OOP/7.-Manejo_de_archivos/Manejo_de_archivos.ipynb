{
 "cells": [
  {
   "cell_type": "markdown",
   "metadata": {},
   "source": [
    "# Manejo de archivos"
   ]
  },
  {
   "cell_type": "markdown",
   "metadata": {},
   "source": [
    "*Modo texto*-------------rt------wt----------at-----------r+t-----------------w+t\n",
    "\n",
    "*Modo binario*-----------rb------wb----------ab-----------r+b-----------------w+b\n",
    "\n",
    "*Descripción*---------lectura escritura---adjuntar---leer-actualizar---escribir-actualizar\n",
    "\n",
    "\n",
    "### Cerrando streams\n",
    "La última operación realizada en un stream (esto no incluye a los streams stdin, stdout, y stderr pues no lo requieren) debe ser cerrarlo.\n",
    "\n",
    "Esa acción se realiza mediante un método invocado desde dentro del objeto del stream: stream.close().\n",
    "\n",
    "1. El nombre de la función es fácil de entender close(), es decir cerrar.\n",
    "2. La función no espera argumentos; el stream no necesita estar abierto.\n",
    "3. La función no devuelve nada pero lanza una excepción IOError en caso de un error.\n",
    "4. La mayoría de los desarrolladores creen que la función close() siempre tiene éxito y, por lo tanto, no hay necesidad de verificar si ha realizado su tarea correctamente.\n",
    "\n",
    "\n",
    "Esta creencia está solo parcialmente justificada. Si el stream se abrió para escribir y luego se realizó una serie de operaciones de escritura, puede ocurrir que los datos enviados al stream aún no se hayan transferido al dispositivo físico (debido a los mecanismos de cache o buffer). Dado que el cierre del stream obliga a los búferes a descargarse, es posible que dichas descargas fallen y, por lo tanto, close() falle también.\n",
    "Ya hemos mencionado fallas causadas por funciones que operan con los streams, pero no mencionamos nada sobre cómo podemos identificar exactamente la causa de la falla.\n",
    "\n",
    "La posibilidad de hacer un diagnóstico existe y es proporcionada por uno de los componentes de excepción de los streams.\n",
    "\n",
    "### Diagnosticando problemas con los streams\n",
    "El objeto IOError está equipado con una propiedad llamada errno (el nombre viene de la frase error number, número de error) y puedes accederla de la siguiente manera:\n"
   ]
  },
  {
   "cell_type": "code",
   "execution_count": null,
   "metadata": {},
   "outputs": [],
   "source": [
    "\n",
    "try:\n",
    "    #operaciones con streams\n",
    "except IOError as exc:\n",
    "    print(exc.errno)\n"
   ]
  },
  {
   "cell_type": "markdown",
   "metadata": {},
   "source": [
    "\n",
    "El valor del atributo errno se puede comparar con una de las constantes simbólicas predefinidas en módulo errno.\n",
    "\n",
    "### ERRORES\n",
    "\n",
    "Echemos un vistazo a algunas constantes seleccionadas útiles para detectar errores de flujo:\n",
    "\n",
    "`errno.EACCES` → Permiso denegado\n",
    "\n",
    "El error se produce cuando intentas, por ejemplo, abrir un archivo con atributos de solo lectura para abrirlo.\n",
    "\n",
    "\n",
    "`errno.EBADF` → Número de archivo incorrecto\n",
    "\n",
    "El error se produce cuando intentas, por ejemplo, operar un stream sin abrirlo.\n",
    "\n",
    "`errno.EEXIST` → Archivo existente\n",
    "\n",
    "El error se produce cuando intentas, por ejemplo, cambiar el nombre de un archivo con su nombre anterior.\n",
    "\n",
    "\n",
    "`errno.EFBIG` → Archivo demasiado grande\n",
    "\n",
    "El error ocurre cuando intentas crear un archivo que es más grande que el máximo permitido por el sistema operativo.\n",
    "\n",
    "\n",
    "`errno.EISDIR` → Es un directorio\n",
    "\n",
    "El error se produce cuando intentas tratar un nombre de directorio como el nombre de un archivo ordinario.\n",
    "\n",
    "\n",
    "`errno.EMFILE` → Demasiados archivos abiertos\n",
    "\n",
    "El error se produce cuando intentas abrir simultáneamente más streams de los aceptables para el sistema operativo.\n",
    "\n",
    "\n",
    "`errno.ENOENT` → El archivo o directorio no existe\n",
    "\n",
    "El error se produce cuando intentas acceder a un archivo o directorio inexistente.\n",
    "\n",
    "\n",
    "`errno.ENOSPC` → no queda espacio en el dispositivo\n",
    "\n",
    "El error ocurre cuando no hay espacio libre en el dispositivo.\n",
    "\n",
    "\n",
    "La lista completa es mucho más larga (incluye también algunos códigos de error no relacionados con el procesamiento del stream)."
   ]
  },
  {
   "cell_type": "code",
   "execution_count": null,
   "metadata": {},
   "outputs": [],
   "source": [
    "####FORMA DE MANERA DE IDENTIFICAR ERRORES SIMPLIFICADA CON strerror()###########\n",
    "from os import strerror\n",
    "try:\n",
    "    s = open(\"c:/users/user/Desktop/file.txt\", \"rt\")\n",
    "    # el procesamiento va aquí\n",
    "    s.close()\n",
    "except Exception as exc:\n",
    "    print(\"El archivo no se pudo abrir:\", strerror(exc.errno));"
   ]
  },
  {
   "cell_type": "code",
   "execution_count": null,
   "metadata": {},
   "outputs": [],
   "source": [
    "####Ejemplo de archivo (lectura de todos los caracteres)####\n",
    "from os import strerror\n",
    "\n",
    "try:\n",
    "    cnt = 0\n",
    "    s = open('text.txt', \"rt\")\n",
    "    ch = s.read(1)\n",
    "    while ch != '':\n",
    "        print(ch, end='')\n",
    "        cnt += 1\n",
    "        ch = s.read(1)\n",
    "    s.close()\n",
    "    print(\"\\n\\nCaracteres en el archivo: \", cnt)\n",
    "except IOError as e:\n",
    "    print(\"Se produjo un error de E/S: \", strerror(e.errno))"
   ]
  },
  {
   "cell_type": "code",
   "execution_count": null,
   "metadata": {},
   "outputs": [],
   "source": [
    "###readline###\n",
    "from os import strerror\n",
    "\n",
    "try:\n",
    "    ccnt = lcnt = 0\n",
    "    s = open('text.txt', 'rt')\n",
    "    line = s.readline()\n",
    "    while line != '':\n",
    "        lcnt += 1\n",
    "        for ch in line:\n",
    "            print(ch, end='')\n",
    "            ccnt += 1\n",
    "        line = s.readline()\n",
    "    s.close()\n",
    "    print(\"\\n\\nCaracteres en el archivo: \", ccnt)\n",
    "    print(\"Lineas en el archivo:     \", lcnt)\n",
    "except IOError as e:\n",
    "    print(\"Se produjo un error de E/S: \", strerror(e.errno))"
   ]
  }
 ],
 "metadata": {
  "language_info": {
   "name": "python"
  },
  "orig_nbformat": 4
 },
 "nbformat": 4,
 "nbformat_minor": 2
}
