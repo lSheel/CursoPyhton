{
 "cells": [
  {
   "cell_type": "markdown",
   "metadata": {},
   "source": [
    "# BYTEARRAY\n",
    "## ¿Qué es un bytearray?\n",
    "Antes de comenzar a hablar sobre archivos binarios, tenemos que informarte sobre una de las clases especializadas que Python usa para almacenar datos amorfos.\n",
    "\n",
    "Los datos amorfos son datos que no tienen forma específica - son solo una serie de bytes.\n",
    "\n",
    "Esto no significa que estos bytes no puedan tener su propio significado o que no puedan representar ningún objeto útil, por ejemplo, gráficos de mapa de bits.\n",
    "\n",
    "\n",
    "Existe una limitación importante - no debes establecer ningún elemento del arreglo de bytes con un valor que no sea un entero (violar esta regla causará una excepción TypeError) y tampoco está permitido asignar un valor fuera del rango de 0 a 255 (a menos que quieras provocar una excepción ValueError)."
   ]
  },
  {
   "cell_type": "code",
   "execution_count": 1,
   "metadata": {},
   "outputs": [
    {
     "name": "stdout",
     "output_type": "stream",
     "text": [
      "0xa\n",
      "10\n",
      "0x9\n",
      "9\n",
      "0x8\n",
      "8\n",
      "0x7\n",
      "7\n",
      "0x6\n",
      "6\n",
      "0x5\n",
      "5\n",
      "0x4\n",
      "4\n",
      "0x3\n",
      "3\n",
      "0x2\n",
      "2\n",
      "0x1\n",
      "1\n"
     ]
    }
   ],
   "source": [
    "data = bytearray(10)\n",
    "\n",
    "for i in range(len(data)):\n",
    "    data[i] = 10 - i\n",
    "\n",
    "for b in data:\n",
    "    print(hex(b))\n",
    "    print(b)"
   ]
  },
  {
   "cell_type": "code",
   "execution_count": null,
   "metadata": {},
   "outputs": [],
   "source": [
    "##############Lectura y escritura de bytearrays########################3\n",
    "from os import strerror\n",
    "\n",
    "data = bytearray(10)\n",
    "\n",
    "for i in range(len(data)):\n",
    "    data[i] = 10 + i\n",
    "\n",
    "try:\n",
    "    bf = open('file.bin', 'wb')\n",
    "    bf.write(data)\n",
    "    hola = bytearray(bf.read())\n",
    "    for b in hola:\n",
    "        print(hola(b), end = \"\")\n",
    "    bf.close()\n",
    "except IOError as e:\n",
    "    print(\"Se produjo un error de E/S: \", strerror(e.errno))"
   ]
  }
 ],
 "metadata": {
  "interpreter": {
   "hash": "21e2b306ac38479bf081e2e54b18866e36f015b4544119a27eb6cb52b6571e97"
  },
  "kernelspec": {
   "display_name": "Python 3.10.0 64-bit",
   "language": "python",
   "name": "python3"
  },
  "language_info": {
   "codemirror_mode": {
    "name": "ipython",
    "version": 3
   },
   "file_extension": ".py",
   "mimetype": "text/x-python",
   "name": "python",
   "nbconvert_exporter": "python",
   "pygments_lexer": "ipython3",
   "version": "3.10.0"
  },
  "orig_nbformat": 4
 },
 "nbformat": 4,
 "nbformat_minor": 2
}
