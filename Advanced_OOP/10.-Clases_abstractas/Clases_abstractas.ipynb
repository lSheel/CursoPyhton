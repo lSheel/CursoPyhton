{
 "cells": [
  {
   "cell_type": "markdown",
   "metadata": {},
   "source": [
    "# Clases abstractas\n",
    "Una **clase abstracta** debe considerarse un modelo para otras clases, una especie de contrato entre un diseñador de clases y un programador:\n",
    "1. El diseñador de clases establece requisitos con respecto a los métodos que deben implementarse simplemente declarándolos, pero sin definirlos en detalle. Estos métodos se denominan métodos abstractos.\n",
    "2. El programador tiene que entregar todas las definiciones de métodos y la integridad sería validada por otro módulo dedicado. El programador entrega las definiciones de método anulando las declaraciones de método recibidas del diseñador de clases.\n",
    "\n",
    "### ¿Por qué queremos usar clases abstractas?\n",
    "La razón muy importante es: queremos que nuestro código sea polimórfico, por lo que todas las subclases tienen que entregar un conjunto de sus propias implementaciones de métodos para poder llamarlas usando nombres de métodos comunes. Además, una clase que contiene uno o más métodos abstractos se llama clase abstracta.\n",
    "Esto significa que las clases abstractas no se limitan a contener solo métodos abstractos; Algunos de los métodos ya se pueden definir, pero si alguno de los métodos es abstracto, entonces la clase se vuelve abstracta.\n",
    "\n",
    "### ¿Qué es un método abstracto?\n",
    "Un método abstracto es un método que tiene una declaración, pero no tiene ninguna implementación."
   ]
  },
  {
   "cell_type": "code",
   "execution_count": null,
   "metadata": {},
   "outputs": [],
   "source": [
    "#Para poder usar las clases abstractas debemos importar abc\n",
    "import abc\n",
    "\n",
    "#En la clase abstracta, debemos pasar como parametro abc.ABC (significa Abstract Base Classes (ABC))\n",
    "class BluePrint(abc.ABC):\n",
    "    #Si queremos hacer un metodo abstracto lo debemos decorar con @abc.abstractmethod\n",
    "    @abc.abstractmethod\n",
    "    def hello(self):\n",
    "        pass\n",
    "\n",
    "#En esta clase estamos heredando la clase abstracta\n",
    "class GreenField(BluePrint):\n",
    "    #Como se puede ver, se esta sobreescribiendo el metodo hello asignandole su propio funcionamiento\n",
    "    def hello(self):\n",
    "        print('Welcome to Green Field!')\n",
    "\n",
    "#Aqui pasa lo mismo que GreenField, le estamos herendando pero nos va a mandar el siguiente error\n",
    "         ###Can't instantiate abstract class RedField with abstract method hello###\n",
    "#Esto por que no estamos estanciando el metodo hello, es necesario sobreescribirla de lo contrario no tendria sentido\n",
    "#hacer la herencia\n",
    "class RedField(BluePrint):\n",
    "    def yellow(self):\n",
    "        pass\n",
    "\n",
    "\n",
    "gf = GreenField()\n",
    "gf.hello()\n",
    "\n",
    "rf = RedField()"
   ]
  },
  {
   "cell_type": "code",
   "execution_count": null,
   "metadata": {},
   "outputs": [],
   "source": []
  }
 ],
 "metadata": {
  "language_info": {
   "name": "python"
  },
  "orig_nbformat": 4
 },
 "nbformat": 4,
 "nbformat_minor": 2
}
