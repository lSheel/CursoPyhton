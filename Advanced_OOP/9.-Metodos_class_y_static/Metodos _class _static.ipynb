{
 "cells": [
  {
   "cell_type": "markdown",
   "metadata": {},
   "source": [
    "#  Metodo _class y _static\n",
    "\n",
    "Uso de métodos estáticos y de clase: comparación\n",
    "\n",
    "1. Un método de clase requiere **'cls'** como primer parámetro y un método estático no;\n",
    "2. Un método de clase tiene la capacidad de acceder al estado o métodos de la clase, y un método estático no;\n",
    "3. Un método de clase está decorado por **'@classmethod'** y un método estático por '@staticmethod';\n",
    "4. Un método de clase se puede usar como una forma alternativa de crear objetos, y un método estático es solo un método de utilidad.\n",
    "\n",
    "### Métodos de clase\n",
    "\n",
    "Los métodos de clase son métodos que, al igual que las variables de clase, funcionan en la clase misma y no en los objetos de clase de los que se crea una instancia. Puede decir que son métodos vinculados a la clase, no al objeto.\n",
    "\n",
    "### Convención\n",
    "Para poder distinguir un método de clase de un método de instancia, el programador lo señala con el decorador *@classmethod* que precede a la definición del método de clase Además, el primer parámetro del método de clase es cls, que se utiliza para hacer referencia a los métodos y atributos de clase."
   ]
  },
  {
   "cell_type": "code",
   "execution_count": 1,
   "metadata": {},
   "outputs": [
    {
     "name": "stdout",
     "output_type": "stream",
     "text": [
      "# of objects created: 0\n",
      "# of objects created: 1\n",
      "# of objects created: 2\n"
     ]
    }
   ],
   "source": [
    "class Example:\n",
    "    __internal_counter = 0\n",
    "\n",
    "    def __init__(self, value):\n",
    "        Example.__internal_counter +=1\n",
    "\n",
    "    @classmethod\n",
    "    def get_internal(cls):\n",
    "        return '# of objects created: {}'.format(cls.__internal_counter)\n",
    "\n",
    "print(Example.get_internal())\n",
    "\n",
    "example1 = Example(10)\n",
    "print(Example.get_internal())\n",
    "\n",
    "example2 = Example(99)\n",
    "print(Example.get_internal())"
   ]
  },
  {
   "cell_type": "code",
   "execution_count": null,
   "metadata": {},
   "outputs": [],
   "source": [
    "class Car:\n",
    "    #El constructor que pide un parametro\n",
    "    def __init__(self, vin):\n",
    "        print('Ordinary __init__ was called for', vin)\n",
    "        self.vin = vin\n",
    "        self.brand = ''\n",
    "\n",
    "    #El metodo class\n",
    "    @classmethod\n",
    "    def including_brand(cls, vin, brand):\n",
    "        print('Class method was called')\n",
    "        #Lo que va hacer la sig es crear un objeto, para eso se usa cls para referise a la clase y le pasamos el\n",
    "        # parametro que necesitamos que es vin\n",
    "        _car = cls(vin)\n",
    "        #Le asignamos un valor a brand que es un atributo de car\n",
    "        _car.brand = brand\n",
    "        return _car\n",
    "\n",
    "car1 = Car('ABCD1234')\n",
    "car2 = Car.including_brand('DEF567', 'NewBrand')\n",
    "\n",
    "print(car1.vin, car1.brand)\n",
    "print(car2.vin, car2.brand)"
   ]
  },
  {
   "cell_type": "markdown",
   "metadata": {},
   "source": [
    "### Métodos estáticos\n",
    "Los métodos estáticos son métodos que no requieren (¡y no lo esperan!) Un parámetro que indique el objeto de la clase o la clase en sí para ejecutar su código.\n",
    "#### ¿Cuándo puede ser útil?\n",
    "Cuando necesita un método de utilidad que viene en una clase porque está relacionado semánticamente, pero no requiere un objeto de esa clase para ejecutar su código; en consecuencia, cuando el método estático no necesita conocer el estado de los objetos o clases."
   ]
  },
  {
   "cell_type": "code",
   "execution_count": null,
   "metadata": {},
   "outputs": [],
   "source": [
    "class Bank_Account:\n",
    "    def __init__(self, iban):\n",
    "        print('__init__ called')\n",
    "        self.iban = iban\n",
    "\n",
    "    @staticmethod\n",
    "    def validate(iban):\n",
    "        if len(iban) == 20:\n",
    "            return True\n",
    "        else:\n",
    "            return False\n",
    "\n",
    "\n",
    "account_numbers = ['8' * 20, '7' * 4, '2222']\n",
    "\n",
    "for element in account_numbers:\n",
    "    if Bank_Account.validate(element):\n",
    "        print('We can use', element, ' to create a bank account')\n",
    "    else:\n",
    "        print('The account number', element, 'is invalid')"
   ]
  }
 ],
 "metadata": {
  "interpreter": {
   "hash": "c701772e950332eb6b33a87f89ff3c0a98c7b2fdbe43fb0bd27346d8c1415404"
  },
  "kernelspec": {
   "display_name": "Python 3.9.10 64-bit (windows store)",
   "language": "python",
   "name": "python3"
  },
  "language_info": {
   "codemirror_mode": {
    "name": "ipython",
    "version": 3
   },
   "file_extension": ".py",
   "mimetype": "text/x-python",
   "name": "python",
   "nbconvert_exporter": "python",
   "pygments_lexer": "ipython3",
   "version": "3.10.0"
  },
  "orig_nbformat": 4
 },
 "nbformat": 4,
 "nbformat_minor": 2
}
