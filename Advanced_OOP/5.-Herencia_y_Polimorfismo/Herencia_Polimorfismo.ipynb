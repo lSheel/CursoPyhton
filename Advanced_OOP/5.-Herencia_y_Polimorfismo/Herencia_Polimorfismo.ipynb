{
 "cells": [
  {
   "cell_type": "markdown",
   "metadata": {},
   "source": [
    "# Herencia y polimorfismo\n",
    "\n",
    "La **herencia** es un mecanismo de la programación orientada a objetos que sirve para crear clases nuevas a partir de clases preexistentes. Se toman (heredan) atributos y comportamientos de las clases viejas y se los modifica para modelar una nueva situación.\n"
   ]
  },
  {
   "cell_type": "code",
   "execution_count": 2,
   "metadata": {},
   "outputs": [],
   "source": [
    "#Ejemplo\n",
    "class A:\n",
    "    def __init__(self, nombre):\n",
    "        self.__nombre = nombre\n",
    "\n",
    "    def __str__(self):\n",
    "        return self.__nombre\n",
    "\n",
    "\n",
    "class B(A):\n",
    "    def __init__(self, apellido):\n",
    "        super(B, self).__init__(\"Luis\")\n",
    "        self.__apellido = apellido\n",
    "\n",
    "    def __str__(self):\n",
    "        return self.__apellido\n",
    "\n",
    "\n",
    "class C(B):\n",
    "    def __init__(self, edad):\n",
    "        super(C, self).__init__(\"Gonzalez\")\n",
    "        self.__edad = edad\n",
    "\n",
    "    def __str__(self):\n",
    "        a = A.__str__(self) + \" \" + B.__str__(self) + \" \" + self.__edad\n",
    "        return a"
   ]
  },
  {
   "cell_type": "markdown",
   "metadata": {},
   "source": [
    "El concepto de **polimorfismo** (del griego muchas formas) implica que si en una porción de código se invoca un determinado método de un objeto, podrán obtenerse distintos resultados según la clase del objeto."
   ]
  },
  {
   "cell_type": "code",
   "execution_count": 3,
   "metadata": {},
   "outputs": [
    {
     "name": "stdout",
     "output_type": "stream",
     "text": [
      "The device was turned on\n",
      "The device was turned on\n",
      "PortableRadio type object was turned on\n",
      "TvSet type object was turned on\n"
     ]
    }
   ],
   "source": [
    "#Ejemplo 1:\n",
    "class Device:\n",
    "    def turn_on(self):\n",
    "        print('The device was turned on')\n",
    "\n",
    "\n",
    "class Radio(Device):\n",
    "    pass\n",
    "\n",
    "\n",
    "class PortableRadio(Device):\n",
    "    def turn_on(self):\n",
    "        print('PortableRadio type object was turned on')\n",
    "\n",
    "\n",
    "class TvSet(Device):\n",
    "    def turn_on(self):\n",
    "        print('TvSet type object was turned on')\n",
    "\n",
    "\n",
    "device = Device()\n",
    "radio = Radio()\n",
    "portableRadio = PortableRadio()\n",
    "tvSet = TvSet()\n",
    "\n",
    "for element in (device, radio, portableRadio, tvSet):\n",
    "    element.turn_on()\n"
   ]
  },
  {
   "cell_type": "code",
   "execution_count": null,
   "metadata": {},
   "outputs": [],
   "source": [
    "#Ejemplo 2:\n",
    "class Wax:\n",
    "    def melt(self):\n",
    "        print(\"Wax can be used to form a tool\")\n",
    "\n",
    "class Cheese:\n",
    "    def melt(self):\n",
    "        print(\"Cheese can be eaten\")\n",
    "\n",
    "class Wood:\n",
    "    def fire(self):\n",
    "        print(\"A fire has been started!\")\n",
    "\n",
    "for element in Wax(), Cheese(), Wood():\n",
    "    try:\n",
    "        element.melt()\n",
    "    except AttributeError:\n",
    "        print('No melt() method')"
   ]
  }
 ],
 "metadata": {
  "interpreter": {
   "hash": "21e2b306ac38479bf081e2e54b18866e36f015b4544119a27eb6cb52b6571e97"
  },
  "kernelspec": {
   "display_name": "Python 3.10.0 64-bit",
   "language": "python",
   "name": "python3"
  },
  "language_info": {
   "codemirror_mode": {
    "name": "ipython",
    "version": 3
   },
   "file_extension": ".py",
   "mimetype": "text/x-python",
   "name": "python",
   "nbconvert_exporter": "python",
   "pygments_lexer": "ipython3",
   "version": "3.10.0"
  },
  "orig_nbformat": 4
 },
 "nbformat": 4,
 "nbformat_minor": 2
}
