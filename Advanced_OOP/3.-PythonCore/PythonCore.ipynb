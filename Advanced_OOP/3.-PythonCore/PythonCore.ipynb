{
 "cells": [
  {
   "cell_type": "markdown",
   "metadata": {},
   "source": [
    "# Python Core\n",
    "\n",
    "En pocas palabras son metodos que son la base de python, de donde se basan todos los metodos que usamos al usar python, cada uno tiene su base tanto operadores logicos y metodos especiales como por ejemplo for()\n"
   ]
  },
  {
   "cell_type": "code",
   "execution_count": null,
   "metadata": {},
   "outputs": [],
   "source": [
    "#Ejemplo\n",
    "class Person:\n",
    "    def __init__(self, weight, age, salary):\n",
    "        self.weight = weight\n",
    "        self.age = age\n",
    "        self.salary = salary\n",
    "\n",
    "    def __add__(self, other):\n",
    "        return self.weight + other.weight\n",
    "\n",
    "\n",
    "p1 = Person(30, 40, 50)\n",
    "p2 = Person(35, 45, 55)\n",
    "\n",
    "#en la clase usamos el motodo __Add__ para indicar que si se sumas dos objetos persona, va a sumar el peso\n",
    "#indicado más el del otro objeto\n",
    "print(p1 + p2)"
   ]
  }
 ],
 "metadata": {
  "language_info": {
   "name": "python"
  },
  "orig_nbformat": 4
 },
 "nbformat": 4,
 "nbformat_minor": 2
}
