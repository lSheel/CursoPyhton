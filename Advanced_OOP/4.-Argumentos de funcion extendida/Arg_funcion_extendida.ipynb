{
 "cells": [
  {
   "cell_type": "markdown",
   "metadata": {},
   "source": [
    "# Argumentos de función extendida\n",
    "\n",
    "***args** Se refiere a una tupla de todos los argumentos posicionales adicionales, no explícitamente esperados, por lo que los argumentos se pasan sin palabras clave y se pasan después de los argumentos esperados. En otras palabras, *args  recopila todos los argumentos posicionales no coincidentes;\n",
    "\n",
    "****kwargs** (argumentos con palabras clave) hace referencia a un diccionario de todos los argumentos inesperados que se pasaron en la forma # de pares palabra clave=valor. Del mismo modo, **kwargs recopila todos los argumentos de palabras clave no coincidentes"
   ]
  },
  {
   "cell_type": "code",
   "execution_count": null,
   "metadata": {},
   "outputs": [],
   "source": [
    "def combiner(a, b, *args, **kwargs):\n",
    "    print(a, type(a))\n",
    "    print(b, type(b))\n",
    "    print(args, type(args))\n",
    "    print(kwargs, type(kwargs))\n",
    "\n",
    "\n",
    "combiner(10, '20', 40, 60, 30, argument1=50, argument2='66')"
   ]
  },
  {
   "cell_type": "markdown",
   "metadata": {},
   "source": [
    "## Ejemplo 2"
   ]
  },
  {
   "cell_type": "code",
   "execution_count": null,
   "metadata": {},
   "outputs": [],
   "source": [
    "def combiner(a, b, *args, **kwargs):\n",
    "    super_combiner(*args, **kwargs)\n",
    "\n",
    "\n",
    "def super_combiner(*my_args, **my_kwargs):\n",
    "    print('my_args:', my_args)\n",
    "    print('my_kwargs', my_kwargs)\n",
    "\n",
    "\n",
    "combiner(10, '20', 40, 60, 30, argument1=50, argument2='66')"
   ]
  },
  {
   "cell_type": "markdown",
   "metadata": {},
   "source": [
    "## Ejemplo 3"
   ]
  },
  {
   "cell_type": "code",
   "execution_count": null,
   "metadata": {},
   "outputs": [],
   "source": [
    "def combiner(a, b, *args, c=20, **kwargs):\n",
    "    super_combiner(c, *args, **kwargs)\n",
    "\n",
    "\n",
    "def super_combiner(my_c, *my_args, **my_kwargs):\n",
    "    print('my_args:', my_args)\n",
    "    print('my_c:', my_c)\n",
    "    print('my_kwargs', my_kwargs)\n",
    "\n",
    "\n",
    "combiner(1, '1', 1, 1, c=2, argument1=1, argument2='1')\n"
   ]
  }
 ],
 "metadata": {
  "language_info": {
   "name": "python"
  },
  "orig_nbformat": 4
 },
 "nbformat": 4,
 "nbformat_minor": 2
}
