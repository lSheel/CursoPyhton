{
 "cells": [
  {
   "cell_type": "markdown",
   "metadata": {},
   "source": [
    "# Excepciones avanzadas"
   ]
  },
  {
   "cell_type": "code",
   "execution_count": null,
   "metadata": {},
   "outputs": [],
   "source": [
    "try:\n",
    "    import abcdefghijk\n",
    "\n",
    "except ImportError as e:\n",
    "    print(e.args)\n",
    "    print(e.name)\n",
    "    print(e.path)\n",
    "#La excepción ImportError:\n",
    "# se genera cuando la declaración de importación tiene problemas al intentar cargar un módulo. Los atributos son:\n",
    "# nombre: representa el nombre del módulo que se intentó importar;\n",
    "# ruta: representa la ruta a cualquier archivo que haya desencadenado la excepción, respectivamente. Podría ser Ninguno."
   ]
  },
  {
   "cell_type": "code",
   "execution_count": null,
   "metadata": {},
   "outputs": [],
   "source": [
    "try:\n",
    "    b'\\x80'.decode(\"utf-8\")\n",
    "except UnicodeError as e:\n",
    "    print(e)\n",
    "    print(e.encoding)\n",
    "    print(e.reason)\n",
    "    print(e.object)\n",
    "    print(e.start)\n",
    "    print(e.end)\n",
    "#UnicodeError tiene atributos que describen un error de codificación o decodificación.\n",
    "# codificación: el nombre de la codificación que generó el error.\n",
    "# motivo: una cadena que describe el error de códec específico.\n",
    "# objeto: el objeto que el códec intentaba codificar o decodificar.\n",
    "# inicio: el primer índice de datos no válidos en el objeto.\n",
    "# end: el índice después de los últimos datos no válidos del objeto."
   ]
  }
 ],
 "metadata": {
  "language_info": {
   "name": "python"
  },
  "orig_nbformat": 4
 },
 "nbformat": 4,
 "nbformat_minor": 2
}
