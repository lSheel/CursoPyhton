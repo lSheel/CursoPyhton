{
 "cells": [
  {
   "cell_type": "markdown",
   "metadata": {},
   "source": [
    "# Excepciones encadenadas explicitamente"
   ]
  },
  {
   "cell_type": "code",
   "execution_count": null,
   "metadata": {},
   "outputs": [],
   "source": [
    "#Excepciones avanzadas: excepciones encadenadas explícitamente\n",
    "# Esta vez nos gustaría convertir un tipo explícito de objeto de excepción en otro tipo de objeto de\n",
    "# excepción en el momento en que se produce la segunda excepción. Imagina que tu código es responsable del\n",
    "# proceso de verificación final antes de que se lance el cohete. La lista de comprobaciones es larga y distintas\n",
    "# comprobaciones pueden dar lugar a distintas excepciones. Pero como es un proceso muy serio, debe asegurarse de\n",
    "# que se aprueben todas las comprobaciones. Si alguno falla, se debe marcar en el libro de registro y volver a\n",
    "# verificar la próxima vez.\n",
    "\n",
    "\n",
    "class RocketNotReadyError(Exception):\n",
    "    pass\n",
    "\n",
    "\n",
    "def personnel_check():\n",
    "    try:\n",
    "        print(\"\\tThe captain's name is\", crew[0])\n",
    "        print(\"\\tThe pilot's name is\", crew[1])\n",
    "        print(\"\\tThe mechanic's name is\", crew[2])\n",
    "        print(\"\\tThe navigator's name is\", crew[3])\n",
    "    except IndexError as e:\n",
    "        raise RocketNotReadyError('Crew is incomplete') from e\n",
    "\n",
    "crew = ['John', 'Mary', 'Mike']\n",
    "print('Final check procedure')\n",
    "\n",
    "personnel_check()"
   ]
  },
  {
   "cell_type": "code",
   "execution_count": null,
   "metadata": {},
   "outputs": [],
   "source": [
    "#Para detectar la causa de la excepción RocketNotReadyError, debe acceder al atributo __cause__\n",
    "# del objeto RocketNotReadyError. Ejecute el código en el panel derecho y examine el resultado.\n",
    "# Esta vez, el informe se gestiona de forma segura y puede estar seguro de que está haciendo un buen trabajo.\n",
    "\n",
    "\n",
    "class RocketNotReadyError(Exception):\n",
    "    pass\n",
    "\n",
    "\n",
    "def personnel_check():\n",
    "    try:\n",
    "        print(\"\\tThe captain's name is\", crew[0])\n",
    "        print(\"\\tThe pilot's name is\", crew[1])\n",
    "        print(\"\\tThe mechanic's name is\", crew[2])\n",
    "        print(\"\\tThe navigator's name is\", crew[3])\n",
    "    except IndexError as e:\n",
    "        raise RocketNotReadyError('Crew is incomplete') from e\n",
    "\n",
    "crew = ['John', 'Mary', 'Mike']\n",
    "print('Final check procedure')\n",
    "\n",
    "try:\n",
    "    personnel_check()\n",
    "except RocketNotReadyError as f:\n",
    "    print('General exception: \"{}\", caused by \"{}\"'.format(f, f.__cause__))"
   ]
  },
  {
   "cell_type": "code",
   "execution_count": null,
   "metadata": {},
   "outputs": [],
   "source": [
    "#Ejemplo extendido para entender más el tema\n",
    "class RocketNotReadyError(Exception):\n",
    "    pass\n",
    "\n",
    "\n",
    "def personnel_check():\n",
    "    try:\n",
    "        print(\"\\tThe captain's name is\", crew[0])\n",
    "        print(\"\\tThe pilot's name is\", crew[1])\n",
    "        print(\"\\tThe mechanic's name is\", crew[2])\n",
    "        print(\"\\tThe navigator's name is\", crew[3])\n",
    "    except IndexError as e:\n",
    "        raise RocketNotReadyError('Crew is incomplete') from e\n",
    "\n",
    "\n",
    "def fuel_check():\n",
    "    try:\n",
    "        print('Fuel tank is full in {}%'.format(100 / 0))\n",
    "    except ZeroDivisionError as e:\n",
    "        raise RocketNotReadyError('Problem with fuel gauge') from e\n",
    "\n",
    "\n",
    "crew = ['John', 'Mary', 'Mike']\n",
    "fuel = 100\n",
    "check_list = [personnel_check, fuel_check]\n",
    "\n",
    "print('Final check procedure')\n",
    "\n",
    "for check in check_list:\n",
    "    try:\n",
    "        check()\n",
    "    except RocketNotReadyError as f:\n",
    "        print('RocketNotReady exception: \"{}\", caused by \"{}\"'.format(f, f.__cause__))\n"
   ]
  }
 ],
 "metadata": {
  "language_info": {
   "name": "python"
  },
  "orig_nbformat": 4
 },
 "nbformat": 4,
 "nbformat_minor": 2
}
