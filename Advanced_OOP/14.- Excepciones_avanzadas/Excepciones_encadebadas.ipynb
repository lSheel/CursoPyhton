{
 "cells": [
  {
   "cell_type": "markdown",
   "metadata": {},
   "source": [
    "# Excepciones encadenadas"
   ]
  },
  {
   "cell_type": "code",
   "execution_count": null,
   "metadata": {},
   "outputs": [],
   "source": [
    "#¿Qué son las excepciones encadenadas?\n",
    "# Python 3 introdujo una característica muy interesante llamada 'Encadenamiento de excepciones' para tratar de manera\n",
    "# efectiva las excepciones. Imagine una situación en la que ya está manejando una excepción y su código desencadena\n",
    "# una excepción adicional. ¿Debería su código perder la información sobre la excepción anterior?\n",
    "# Por supuesto no. Por lo tanto, la información debe estar disponible para el código que sigue al código erróneo.\n",
    "# Este concepto de encadenamiento introduce dos atributos de instancias de excepción:\n",
    "# el atributo __context__, que es inherente a las excepciones encadenadas implícitamente;\n",
    "#\n",
    "\n",
    "a_list = ['First error', 'Second error']\n",
    "\n",
    "try:\n",
    "    print(a_list[3])\n",
    "except Exception as e:\n",
    "    print(0 / 0)\n"
   ]
  },
  {
   "cell_type": "code",
   "execution_count": null,
   "metadata": {},
   "outputs": [],
   "source": [
    "a_list = ['First error', 'Second error']\n",
    "\n",
    "try:\n",
    "    print(a_list[3])\n",
    "except Exception as e:\n",
    "    try:\n",
    "        # the following line is a developer mistake - they wanted to print progress as 1/10\tbut wrote 1/0\n",
    "        print(1 / 0)\n",
    "    except ZeroDivisionError as f:\n",
    "        print('Inner exception (f):', f)\n",
    "        print('Outer exception (e):', e)\n",
    "        print('Outer exception referenced:', f.__context__)\n",
    "        print('Is it the same object:', f.__context__ is e)"
   ]
  }
 ],
 "metadata": {
  "language_info": {
   "name": "python"
  },
  "orig_nbformat": 4
 },
 "nbformat": 4,
 "nbformat_minor": 2
}
