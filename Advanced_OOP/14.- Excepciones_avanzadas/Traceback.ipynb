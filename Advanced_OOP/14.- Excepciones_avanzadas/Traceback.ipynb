{
 "cells": [
  {
   "cell_type": "markdown",
   "metadata": {},
   "source": [
    "# Traceback"
   ]
  },
  {
   "cell_type": "code",
   "execution_count": null,
   "metadata": {},
   "outputs": [],
   "source": [
    "#El atributo de rastreo  (traceback)\n",
    "# Cada objeto de excepción posee un atributo __traceback__.\n",
    "# Python nos permite operar en los detalles de rastreo porque cada objeto de excepción (no solo los encadenados)\n",
    "# posee un atributo __traceback__. Examinemos un objeto así mientras preparamos nuestro cohete para su lanzamiento.\n",
    "\n",
    "class RocketNotReadyError(Exception):\n",
    "    pass\n",
    "\n",
    "\n",
    "def personnel_check():\n",
    "    try:\n",
    "        print(\"\\tThe captain's name is\", crew[0])\n",
    "        print(\"\\tThe pilot's name is\", crew[1])\n",
    "        print(\"\\tThe mechanic's name is\", crew[2])\n",
    "        print(\"\\tThe navigator's name is\", crew[3])\n",
    "    except IndexError as e:\n",
    "        raise RocketNotReadyError('Crew is incomplete') from e\n",
    "\n",
    "\n",
    "crew = ['John', 'Mary', 'Mike']\n",
    "\n",
    "print('Final check procedure')\n",
    "\n",
    "try:\n",
    "    personnel_check()\n",
    "except RocketNotReadyError as f:\n",
    "    print(f.__traceback__)\n",
    "    print(type(f.__traceback__))"
   ]
  },
  {
   "cell_type": "code",
   "execution_count": null,
   "metadata": {},
   "outputs": [],
   "source": [
    "\n",
    "\n",
    "\n",
    "#Del codigo anterior, podemos concluir que tenemos que lidiar con un objeto de\n",
    "# tipo traceback. Para lograr esto, podríamos usar el método format_tb () entregado por el módulo de rastreo\n",
    "# incorporado para obtener una lista de cadenas que describen el rastreo. Podríamos usar el método print_tb (),\n",
    "# también entregado por el módulo de rastreo, para imprimir cadenas directamente en la salida estándar.\n",
    "\n",
    "import traceback\n",
    "\n",
    "class RocketNotReadyError(Exception):\n",
    "    pass\n",
    "\n",
    "\n",
    "def personnel_check():\n",
    "    try:\n",
    "        print(\"\\tThe captain's name is\", crew[0])\n",
    "        print(\"\\tThe pilot's name is\", crew[1])\n",
    "        print(\"\\tThe mechanic's name is\", crew[2])\n",
    "        print(\"\\tThe navigator's name is\", crew[3])\n",
    "    except IndexError as e:\n",
    "        raise RocketNotReadyError('Crew is incomplete') from e\n",
    "\n",
    "\n",
    "crew = ['John', 'Mary', 'Mike']\n",
    "\n",
    "print('Final check procedure')\n",
    "\n",
    "try:\n",
    "    personnel_check()\n",
    "except RocketNotReadyError as f:\n",
    "    print(f.__traceback__)\n",
    "    print(type(f.__traceback__))\n",
    "    print('\\nTraceback details')\n",
    "    details = traceback.format_tb(f.__traceback__)\n",
    "    print(\"\\n\".join(details))\n",
    "\n",
    "print('Final check is over')\n"
   ]
  }
 ],
 "metadata": {
  "language_info": {
   "name": "python"
  },
  "orig_nbformat": 4
 },
 "nbformat": 4,
 "nbformat_minor": 2
}
