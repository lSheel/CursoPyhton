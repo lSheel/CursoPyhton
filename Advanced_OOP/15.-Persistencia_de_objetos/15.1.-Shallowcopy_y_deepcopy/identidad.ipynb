{
 "cells": [
  {
   "cell_type": "markdown",
   "metadata": {},
   "source": [
    "# Identidad\n",
    "\n",
    "### ¿Qué es esa 'identidad' de objeto?\n",
    "¿Por qué el valor del objeto y la etiqueta no son suficientes?\n",
    "La función incorporada id () devuelve la 'identidad' de un objeto.\n",
    "Este es un número entero que se garantiza que será único y constante para este objeto durante su vida útil.\n",
    "Dos objetos con vidas útiles que no se superponen pueden tener el mismo valor de id ()."
   ]
  },
  {
   "cell_type": "code",
   "execution_count": 1,
   "metadata": {},
   "outputs": [
    {
     "name": "stdout",
     "output_type": "stream",
     "text": [
      "a_string identity: 2194300120368\n",
      "b_string identity: 2194300503264\n",
      "a_string identity: 2194315403680\n",
      "b_string identity: 2194315403680\n"
     ]
    }
   ],
   "source": [
    "a_string = '10 days to departure'\n",
    "b_string = '20 days to departure'\n",
    "\n",
    "print('a_string identity:', id(a_string))\n",
    "print('b_string identity:', id(b_string))\n",
    "\n",
    "#Cuando tiene dos variables que se refieren al mismo objeto,\n",
    "# los valores de retorno de la función id () deben ser los mismos.\n",
    "\n",
    "a_string = '10 days to departure'\n",
    "b_string = a_string\n",
    "\n",
    "print('a_string identity:', id(a_string))\n",
    "print('b_string identity:', id(b_string))"
   ]
  },
  {
   "cell_type": "markdown",
   "metadata": {},
   "source": [
    "## \"¿Cuál es la diferencia entre los operadores '==' y 'is'?\n",
    "\n",
    "**\"==\"** Este operador compara los valores de ambos operandos y comprueba la igualdad de valores.\n",
    "Así que aquí asistimos a una comparación de valores.\n",
    "\n",
    "Para comprobar si ambos operandos se refieren al mismo objeto o no, debe utilizar el operador **'is'.**"
   ]
  },
  {
   "cell_type": "code",
   "execution_count": null,
   "metadata": {},
   "outputs": [],
   "source": [
    "a_string = ['10', 'days', 'to', 'departure']\n",
    "b_string = a_string\n",
    "\n",
    "print('a_string identity:', id(a_string))\n",
    "print('b_string identity:', id(b_string))\n",
    "print('The result of the value comparison:', a_string == b_string)\n",
    "print('The result of the identity comparison:', a_string is b_string)\n",
    "\n",
    "print()\n",
    "\n",
    "a_string = ['10', 'days', 'to', 'departure']\n",
    "b_string = ['10', 'days', 'to', 'departure']\n",
    "\n",
    "print('a_string identity:', id(a_string))\n",
    "print('b_string identity:', id(b_string))\n",
    "print('The result of the value comparison:', a_string == b_string)\n",
    "print('The result of the identity comparison:', a_string is b_string)\n",
    "\n",
    "###Si se cambia el valor de un objeto pasa a ser uno diferente al no ser ya una copia\n",
    "print(\"Part 1\")\n",
    "print(\"Let's make a copy\")\n",
    "a_list = [10, \"banana\", [997, 123]]\n",
    "b_list = a_list[:]\n",
    "print(\"a_list contents:\", a_list)\n",
    "print(\"b_list contents:\", b_list)\n",
    "print(\"Is it the same object?\", a_list is b_list)\n",
    "\n",
    "print()\n",
    "print(\"Part 2\")\n",
    "print(\"Let's modify b_list[2]\")\n",
    "b_list[2][0] = 112\n",
    "print(\"a_list contents:\", a_list)\n",
    "print(\"b_list contents:\", b_list)\n",
    "print(\"Is it the same object?\", a_list is b_list)\n"
   ]
  }
 ],
 "metadata": {
  "interpreter": {
   "hash": "21e2b306ac38479bf081e2e54b18866e36f015b4544119a27eb6cb52b6571e97"
  },
  "kernelspec": {
   "display_name": "Python 3.10.0 64-bit",
   "language": "python",
   "name": "python3"
  },
  "language_info": {
   "codemirror_mode": {
    "name": "ipython",
    "version": 3
   },
   "file_extension": ".py",
   "mimetype": "text/x-python",
   "name": "python",
   "nbconvert_exporter": "python",
   "pygments_lexer": "ipython3",
   "version": "3.10.0"
  },
  "orig_nbformat": 4
 },
 "nbformat": 4,
 "nbformat_minor": 2
}
