{
 "cells": [
  {
   "cell_type": "markdown",
   "metadata": {},
   "source": [
    "# Shallow y deep copy\n",
    "\n",
    "Si desea hacer una copia independiente de un objeto compuesto (lista, diccionario, instancia de clase personalizada), debe hacer uso de la copia profunda, que:\n",
    "1. construye un nuevo objeto compuesto y luego, recursivamente, inserta copias en él de los objetos encontrados en el original;\n",
    "2. tarda más en completarse, ya que hay muchas más operaciones por realizar;\n",
    "3. es implementado por la función deepcopy (), entregado por el módulo 'copy' de python"
   ]
  },
  {
   "cell_type": "code",
   "execution_count": null,
   "metadata": {},
   "outputs": [],
   "source": [
    "import copy\n",
    "\n",
    "print(\"Let's make a deep copy\")\n",
    "a_list = [10, \"banana\", [997, 123]]\n",
    "b_list = copy.deepcopy(a_list)\n",
    "print(\"a_list contents:\", a_list)\n",
    "print(\"b_list contents:\", b_list)\n",
    "print(\"Is it the same object?\", a_list is b_list)\n",
    "\n",
    "print()\n",
    "print(\"Let's modify b_list[2]\")\n",
    "b_list[2][0] = 112\n",
    "print(\"a_list contents:\", a_list)\n",
    "print(\"b_list contents:\", b_list)\n",
    "print(\"Is it the same object?\", a_list is b_list)\n",
    "\n",
    "\n",
    "      ######SHALLOW######               #######DEEP########\n",
    "\n",
    "#   A_LIST           B_LIST            A_LIST            B_LIST\n",
    "#       \\              /                 |                 |\n",
    "#        \\            /                  |                 |\n",
    "#         \\          /                   |                 |\n",
    "#         ------------              ------------       ------------\n",
    "#         | MEMORIA  |              | MEMORIA  |       | MEMORIA  |\n",
    "#         ------------              ------------       ------------"
   ]
  },
  {
   "cell_type": "code",
   "execution_count": 1,
   "metadata": {},
   "outputs": [
    {
     "name": "stdout",
     "output_type": "stream",
     "text": [
      "Single reference copy\n",
      "Execution time: 0.001\n",
      "Memory chunks: 1924339140352 1924339140352\n",
      "Same memory chunk? True\n",
      "\n",
      "Shallow copy\n",
      "Execution time: 0.016\n",
      "Memory chunks: 1924339140352 1924343316096\n",
      "Same memory chunk? False\n",
      "\n",
      "Deep copy\n",
      "Execution time: 15.962\n",
      "Memory chunks: 1924339140352 1924339139584\n",
      "Same memory chunk? False\n"
     ]
    }
   ],
   "source": [
    "#En el siguiente ejemplo, compararemos el rendimiento de tres formas de copiar un objeto compuesto grande\n",
    "# (un millón de tuplas de tres elementos).\n",
    "\n",
    "import copy\n",
    "import time\n",
    "\n",
    "a_list = [(1,2,3) for x in range(1_000_000)]\n",
    "\n",
    "print('Single reference copy')\n",
    "time_start = time.time()\n",
    "b_list = a_list\n",
    "print('Execution time:', round(time.time() - time_start, 3))\n",
    "print('Memory chunks:', id(a_list), id(b_list))\n",
    "print('Same memory chunk?', a_list is b_list)\n",
    "\n",
    "print()\n",
    "\n",
    "print('Shallow copy')\n",
    "time_start = time.time()\n",
    "b_list = a_list[:]\n",
    "print('Execution time:', round(time.time() - time_start, 3))\n",
    "print('Memory chunks:', id(a_list), id(b_list))\n",
    "print('Same memory chunk?', a_list is b_list)\n",
    "\n",
    "print()\n",
    "\n",
    "print('Deep copy')\n",
    "time_start = time.time()\n",
    "b_list = copy.deepcopy(a_list)\n",
    "print('Execution time:', round(time.time() - time_start, 3))\n",
    "print('Memory chunks:', id(a_list), id(b_list))\n",
    "print('Same memory chunk?', a_list is b_list)\n"
   ]
  },
  {
   "cell_type": "code",
   "execution_count": null,
   "metadata": {},
   "outputs": [],
   "source": [
    "import copy\n",
    "\n",
    "a_dict = {\n",
    "    'first name': 'James',\n",
    "    'last name': 'Bond',\n",
    "    'movies': ['Goldfinger (1964)', 'You Only Live Twice']\n",
    "    }\n",
    "b_dict = copy.deepcopy(a_dict)\n",
    "print('Memory chunks:', id(a_dict), id(b_dict))\n",
    "print('Same memory chunk?', a_dict is b_dict)\n",
    "print(\"Let's modify the movies list\")\n",
    "a_dict['movies'].append('Diamonds Are Forever (1971)')\n",
    "print('a_dict movies:', a_dict['movies'])\n",
    "print('b_dict movies:', b_dict['movies'])\n"
   ]
  },
  {
   "cell_type": "code",
   "execution_count": null,
   "metadata": {},
   "outputs": [],
   "source": [
    "import copy\n",
    "\n",
    "class Example:\n",
    "    def __init__(self):\n",
    "        self.properties = [\"112\", \"997\"]\n",
    "        print(\"Hello from __init__()\")\n",
    "\n",
    "a_example = Example()\n",
    "b_example = copy.deepcopy(a_example)\n",
    "print(\"Memory chunks:\", id(a_example), id(b_example))\n",
    "print(\"Same memory chunk?\", a_example is b_example)\n",
    "print()\n",
    "print(\"Let's modify the movies list\")\n",
    "b_example.properties.append(\"911\")\n",
    "print('a_example.properties:', a_example.properties)\n",
    "print('b_example.properties:', b_example.properties)\n"
   ]
  },
  {
   "cell_type": "code",
   "execution_count": null,
   "metadata": {},
   "outputs": [],
   "source": [
    "import copy\n",
    "\n",
    "warehouse = list()\n",
    "warehouse.append({'name': 'Lolly Pop', 'price': 0.4, 'weight': 133})\n",
    "warehouse.append({'name': 'Licorice', 'price': 0.1, 'weight': 251})\n",
    "warehouse.append({'name': 'Chocolate', 'price': 1, 'weight': 601})\n",
    "warehouse.append({'name': 'Sours', 'price': 0.01, 'weight': 513})\n",
    "warehouse.append({'name': 'Hard candies', 'price': 0.3, 'weight': 433})\n",
    "\n",
    "warehouse2 = copy.deepcopy(warehouse)\n",
    "\n",
    "print('Source list of candies')\n",
    "for item in warehouse:\n",
    "    print(item)\n",
    "for item in warehouse2:\n",
    "    print(item)"
   ]
  }
 ],
 "metadata": {
  "interpreter": {
   "hash": "21e2b306ac38479bf081e2e54b18866e36f015b4544119a27eb6cb52b6571e97"
  },
  "kernelspec": {
   "display_name": "Python 3.10.0 64-bit",
   "language": "python",
   "name": "python3"
  },
  "language_info": {
   "codemirror_mode": {
    "name": "ipython",
    "version": 3
   },
   "file_extension": ".py",
   "mimetype": "text/x-python",
   "name": "python",
   "nbconvert_exporter": "python",
   "pygments_lexer": "ipython3",
   "version": "3.10.0"
  },
  "orig_nbformat": 4
 },
 "nbformat": 4,
 "nbformat_minor": 2
}
