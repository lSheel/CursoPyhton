{
 "cells": [
  {
   "cell_type": "markdown",
   "metadata": {},
   "source": [
    "# Serializació parte 2\n",
    "\n",
    "Los objetos serializados podrían persistir en una base de datos o enviarse a través de una red.\n",
    "Esto implica otras dos funciones correspondientes a las funciones pickle.dumps () y pickle.loads ():\n",
    "\n",
    "***pickle.dumps (object_to_be_pickled)*** - espera un objeto inicial, devuelve un objeto byte. Este objeto de byte debe pasarse a una base de datos o controlador de red para conservar los datos;\n",
    "\n",
    "***pickle.loads (bytes_object)*** - espera el objeto bytes, devuelve el objeto inicial."
   ]
  },
  {
   "cell_type": "code",
   "execution_count": null,
   "metadata": {},
   "outputs": [],
   "source": [
    "import pickle\n",
    "\n",
    "a_list = ['a', 123, [10, 100, 1000]]\n",
    "bytes = pickle.dumps(a_list)\n",
    "print('Intermediate object type, used to preserve data:', type(bytes))\n",
    "\n",
    "# Pasa 'bytes' al controlador apropiado\n",
    "\n",
    "# Por lo tanto, cuando recibe un objeto de bytes de un controlador apropiado, puede deserializarlo\n",
    "b_list = pickle.loads(bytes)\n",
    "print('A type of deserialized object:', type(b_list))\n",
    "print('Contents:', b_list)"
   ]
  },
  {
   "cell_type": "code",
   "execution_count": null,
   "metadata": {},
   "outputs": [],
   "source": [
    "import pickle\n",
    "\n",
    "def f1():\n",
    "    print('Hello from the jar!')\n",
    "\n",
    "with open('function.pckl', 'wb') as file_out:\n",
    "    pickle.dump(f1, file_out)\n",
    "\n",
    "#Si eliminamos No vemos errores, por lo que podríamos concluir que f1 () fue 'pickled' correctamente y ahora podemos recuperarlo\n",
    "# del archivo. Ejecute el código en el editor y vea qué sucede. Desafortunadamente, el resultado prueba que no se\n",
    "# mantuvo ningún código:\n",
    "\n",
    "with open('function.pckl', 'rb') as file_in:\n",
    "    data = pickle.load(file_in)\n",
    "\n",
    "print(type(data))\n",
    "print(data)\n",
    "data()\n"
   ]
  },
  {
   "cell_type": "code",
   "execution_count": null,
   "metadata": {},
   "outputs": [],
   "source": [
    "#A continuación, se muestra el mismo ejemplo sobre la definición de clases y el 'pickling de objetos:\n",
    "\n",
    "import pickle\n",
    "\n",
    "class Cucumber:\n",
    "\n",
    "    def __init__(self):\n",
    "        self.size = 'small'\n",
    "\n",
    "    def get_size(self):\n",
    "        return self.size\n",
    "\n",
    "cucu = Cucumber()\n",
    "\n",
    "with open('cucumber.pckl', 'wb') as file_out:\n",
    "    pickle.dump(cucu, file_out)\n",
    "\n",
    "#No vemos errores, por lo que podríamos concluir que la clase y el objeto Cucumber se encurtieron correctamente\n",
    "# y ahora podemos recuperarlos del archivo. De hecho, solo se conserva el objeto, pero no su definición,\n",
    "# lo que nos permite determinar el diseño del atributo: Si ejecuta el código, recibe:\n",
    "\n",
    "with open('cucumber.pckl', 'rb') as file_in:\n",
    "    data = pickle.load(file_in)\n",
    "\n",
    "print(type(data))\n",
    "print(data)\n",
    "print(data.size)\n",
    "print(data.get_size())\n",
    "\n",
    "#El remedio para los problemas anteriores es: el código que llama a las funciones load () o load () de pickle\n",
    "# ya debería conocer la definición de función / clase."
   ]
  }
 ],
 "metadata": {
  "language_info": {
   "name": "python"
  },
  "orig_nbformat": 4
 },
 "nbformat": 4,
 "nbformat_minor": 2
}
