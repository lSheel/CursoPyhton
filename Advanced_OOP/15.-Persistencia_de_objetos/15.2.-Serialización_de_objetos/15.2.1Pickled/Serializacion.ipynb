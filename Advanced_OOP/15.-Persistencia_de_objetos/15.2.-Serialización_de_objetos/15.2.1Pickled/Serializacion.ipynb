{
 "cells": [
  {
   "cell_type": "markdown",
   "metadata": {},
   "source": [
    "# Serializacion de objetos (con pickle)\n",
    "\n",
    "El pickling es el proceso de preservar o extender la vida útil de los alimentos.\n",
    "El alimento resultante se llama encurtido y, para evitar ambigüedades, se introduce el adjetivo \"encurtido\".\n",
    "\n",
    "En Python, la ***serialización*** de objetos es el proceso de convertir una estructura de objeto en un flujo de bytes para almacenar el objeto en un archivo o base de datos, o para transmitirlo a través de una red.\n",
    "Este flujo de bytes contiene toda la información necesaria para reconstruir el objeto en otro script de Python.\n",
    "\n",
    "Este proceso inverso se llama ***deserialización.***\n",
    "Los objetos de Python también se pueden serializar usando un módulo llamado 'pickle', y usando este módulo, puede 'pickle' sus objetos de Python para su uso posterior.\n",
    "\n",
    "#El módulo **'pickle'** es un módulo muy popular y conveniente para la serialización de datos en el mundo de los Pythonistas. Entonces, ¿qué se puede encurtir y luego despegar? Los siguientes tipos se pueden encurtir:\n",
    "1. none, booleanos;\n",
    "2. enteros, números de coma flotante, números complejos;\n",
    "3. cadenas, bytes, bytearrays;\n",
    "4. tuplas, listas, conjuntos y diccionarios que contienen objetos encurtidos;\n",
    "5. objetos, incluidos objetos con referencias a otros objetos (¡recuerde evitar ciclos!) referencias a funciones y\n",
    "6. clases, pero no sus definiciones."
   ]
  },
  {
   "cell_type": "code",
   "execution_count": null,
   "metadata": {},
   "outputs": [],
   "source": [
    "#El código comienza con la declaración de importación responsable de cargar el módulo pickle:\n",
    "import pickle\n",
    "\n",
    "a_dict = dict()\n",
    "a_dict['EUR'] = {'code':'Euro', 'symbol': '€'}\n",
    "a_dict['GBP'] = {'code':'Pounds sterling', 'symbol': '£'}\n",
    "a_dict['USD'] = {'code':'US dollar', 'symbol': '$'}\n",
    "a_dict['JPY'] = {'code':'Japanese yen', 'symbol': '¥'}\n",
    "\n",
    "a_list = ['a', 123, [10, 100, 1000]]\n",
    "\n",
    "#puede ver que el identificador de archivo 'file_out' está asociado con el archivo abierto para escribir en modo\n",
    "# binario. Es importante abrir el archivo en modo binario, ya que volcamos datos como un flujo de bytes.\n",
    "with open('multidata.pckl', 'wb') as file_out:\n",
    "    #Ahora es el momento de conservar el primer objeto con la función dump ().\n",
    "    # Esta función espera que se conserve un objeto y un identificador de archivo.\n",
    "    pickle.dump(a_dict, file_out)\n",
    "    #Y el segundo objeto se conserva de la misma manera:\n",
    "    pickle.dump(a_list, file_out)\n",
    "\n",
    "#Ahora es el momento de deshacer el contenido del archivo. El código presentado es bastante simple:\n",
    "# estamos importando un módulo pickle;\n",
    "# el archivo se abre en modo binario y el identificador de archivo está asociado con el archivo;\n",
    "# leemos consecutivamente algunas porciones de datos y las deserializamos con la función load ();\n",
    "# finalmente, examinamos el tipo y contenido de los objetos.\n",
    "\n",
    "with open('multidata.pckl', 'rb') as file_in:\n",
    "    data1 = pickle.load(file_in)\n",
    "    data2 = pickle.load(file_in)\n",
    "\n",
    "print(type(data1))\n",
    "print(data1)\n",
    "print(type(data2))\n",
    "print(data2)"
   ]
  },
  {
   "cell_type": "code",
   "execution_count": null,
   "metadata": {},
   "outputs": [],
   "source": []
  }
 ],
 "metadata": {
  "language_info": {
   "name": "python"
  },
  "orig_nbformat": 4
 },
 "nbformat": 4,
 "nbformat_minor": 2
}
