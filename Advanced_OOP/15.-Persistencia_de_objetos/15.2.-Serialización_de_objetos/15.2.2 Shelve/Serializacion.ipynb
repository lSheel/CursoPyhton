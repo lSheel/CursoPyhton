{
 "cells": [
  {
   "cell_type": "markdown",
   "metadata": {},
   "source": [
    "# Serialización de objetos Python usando el módulo shelve\n",
    "\n",
    "Como recordará, el módulo pickle se utiliza para serializar objetos como una secuencia de un solo byte.\n",
    "Tanto las partes de serialización como de deserialización deben cumplir con el orden de todos los elementos colocados en un archivo o base de datos, o enviados a través de una red.\n",
    "\n",
    "Hay otro módulo útil, llamado ***shelve***, que se construye sobre pickle e implementa un diccionario de serialización donde los objetos son decapados y asociados con una clave. Las claves deben ser cadenas normales, porque la base de datos subyacente (dbm) requiere cadenas. Por lo tanto, puede abrir su archivo de datos guardado y acceder a sus objetos en escabeche a través de las claves de la misma manera que lo hace cuando accede a los diccionarios de Python. Esto podría ser más conveniente para usted cuando esté serializando muchos objetos."
   ]
  },
  {
   "cell_type": "code",
   "execution_count": null,
   "metadata": {},
   "outputs": [],
   "source": [
    "#Usar shelve es bastante fácil e intuitivo. Primero, importemos el módulo apropiado y creemos un objeto\n",
    "# que represente una base de datos basada en archivos:\n",
    "\n",
    "# import shelve\n",
    "# my_shelve = shelve.open('first_shelve.shlv', flag='w')\n",
    "\n",
    "#El significado del parámetro de bandera opcional:\n",
    "\n",
    "#Value\tMeaning\n",
    "#'r' \tAbre la base de datos existente para solo lectura\n",
    "#'w' \tAbre la base de datos existente para lectura y escritura\n",
    "#'c' \tAbre la base de datos existente para lectura y escritura, La crea si no existe (Es el valor por default)\n",
    "#'n'   Siempre crea una base de datos nueva y vacia, para lectura y escritura\n",
    "\n",
    "import shelve\n",
    "\n",
    "shelve_name = 'first_shelve.shlv'\n",
    "\n",
    "my_shelve = shelve.open(shelve_name, flag='c')\n",
    "#Ahora nuestro objeto de estantería está listo para la acción, así que insertemos algunos elementos y\n",
    "# cierre el objeto de estantería.\n",
    "my_shelve['EUR'] = {'code':'Euro', 'symbol': '€'}\n",
    "my_shelve['GBP'] = {'code':'Pounds sterling', 'symbol': '£'}\n",
    "my_shelve['USD'] = {'code':'US dollar', 'symbol': '$'}\n",
    "my_shelve['JPY'] = {'code':'Japanese yen', 'symbol': '¥'}\n",
    "my_shelve.close()\n",
    "\n",
    "#Ahora abramos el archivo shelve para demostrar el acceso directo a los elementos\n",
    "# (contrario al acceso secuencial a los elementos cuando usamos pickles).\n",
    "\n",
    "new_shelve = shelve.open(shelve_name)\n",
    "print(new_shelve['USD'])\n",
    "new_shelve.close()"
   ]
  },
  {
   "cell_type": "markdown",
   "metadata": {},
   "source": [
    "Debe tratar un objeto de estantería como un diccionario de Python, con algunas notas adicionales:\n",
    "\n",
    "1. Las claves deben ser cadenas;\n",
    "    Python coloca los cambios en un búfer que se descarga periódicamente en el disco. Para forzar un vaciado inmediato llame al método **sync ()** en su objeto shelve;\n",
    "\n",
    "    cuando llama al método **close ()** en un objeto shelve, también vacía los búferes.\n",
    "\n",
    "2. Cuando trata un objeto de estantería como un diccionario de Python, puede hacer uso de las utilidades del diccionario:\n",
    "    la función **len ();**\n",
    "\n",
    "    el operador **in;**\n",
    "\n",
    "    los métodos **keys ()** y **items ();**\n",
    "\n",
    "    la operación de actualización, que funciona igual que cuando se aplica a un diccionario de Python;\n",
    "    \n",
    "    la instrucción del, utilizada para eliminar un par clave-valor.\n",
    "\n",
    "\n",
    "Después de ejecutar el código, notará además que se crean algunos archivos para admitir la base de datos.\n",
    "No intente alterar esos archivos con utilidades externas, ya que su estantería puede volverse incoherente y provocar errores de lectura / escritura.\n",
    "\n",
    "El uso de shelve es realmente fácil y eficaz. Además, debe saber que puede simular el shelve con pickling todo el diccionario, pero el módulo shelve utiliza la memoria de manera más eficiente, por lo que siempre que necesite acceder a objetos en pickled, utilice un shelve. Y el comentario final es:\n",
    "\n",
    "***Debido a que el  módulo de shelve está respaldado por pickled, no es seguro cargar un shelve de una fuente que no sea de confianza. Al igual que con pickle, cargar un estante puede ejecutar código arbitrario.***"
   ]
  }
 ],
 "metadata": {
  "language_info": {
   "name": "python"
  },
  "orig_nbformat": 4
 },
 "nbformat": 4,
 "nbformat_minor": 2
}
