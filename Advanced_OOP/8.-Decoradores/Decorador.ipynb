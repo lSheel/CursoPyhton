{
 "cells": [
  {
   "cell_type": "markdown",
   "metadata": {},
   "source": [
    "# Decoradores\n",
    "\n",
    "Los decoradores se utilizan en:\n",
    "\n",
    "1. La validación de los argumentos\n",
    "2. La modificación de los argumentos\n",
    "3. La modificación de los objetos devueltos;\n",
    "4. La medición del tiempo de ejecución;\n",
    "5. El registro de mensajes\n",
    "6. Sincronización de hilos;\n",
    "7. Refactorización del código\n",
    "8. Caching.\n",
    "\n"
   ]
  },
  {
   "cell_type": "code",
   "execution_count": 1,
   "metadata": {},
   "outputs": [
    {
     "name": "stdout",
     "output_type": "stream",
     "text": [
      "We are about to call \"simple_hello\"\n",
      "Hello from simple function!\n"
     ]
    }
   ],
   "source": [
    "#Como puede ver, la definición de la función simple_hello () está literalmente decorada con '@simple_decorator',\n",
    "# ¿no es una buena sintaxis? Esto significa que: las operaciones se realizan sobre los nombres de los objetos;\n",
    "# esto es lo más importante a recordar: el nombre del objeto simple_function deja de indicar el objeto que\n",
    "# representa nuestra simple_function () y desde ese momento indica el objeto devuelto por el decorador,\n",
    "# el simple_decorator.\n",
    "\n",
    "def simple_decorator(function):\n",
    "    print('We are about to call \"{}\"'.format(function.__name__))\n",
    "    return function\n",
    "\n",
    "\n",
    "@simple_decorator\n",
    "def simple_hello():\n",
    "    print(\"Hello from simple function!\")\n",
    "\n",
    "\n",
    "simple_hello()"
   ]
  },
  {
   "cell_type": "markdown",
   "metadata": {},
   "source": [
    "## Ejemplo 2"
   ]
  },
  {
   "cell_type": "code",
   "execution_count": 2,
   "metadata": {},
   "outputs": [
    {
     "name": "stdout",
     "output_type": "stream",
     "text": [
      "\"combiner\" was called with the following arguments\n",
      "\t('a', 'b')\n",
      "\t{'exec': 'yes'}\n",
      "\n",
      "\tHello from the decorated function; received arguments: ('a', 'b') {'exec': 'yes'}\n",
      "Decorator is still operating\n"
     ]
    }
   ],
   "source": [
    "def simple_decorator(own_function):\n",
    "\n",
    "    def internal_wrapper(*args, **kwargs):\n",
    "        print('\"{}\" was called with the following arguments'.format(own_function.__name__))\n",
    "        print('\\t{}\\n\\t{}\\n'.format(args, kwargs))\n",
    "        own_function(*args, **kwargs)\n",
    "        print('Decorator is still operating')\n",
    "\n",
    "    return internal_wrapper\n",
    "\n",
    "\n",
    "@simple_decorator\n",
    "def combiner(*args, **kwargs):\n",
    "    print(\"\\tHello from the decorated function; received arguments:\", args, kwargs)\n",
    "\n",
    "combiner('a', 'b', exec='yes')\n"
   ]
  },
  {
   "cell_type": "markdown",
   "metadata": {},
   "source": [
    "## Ejemplo 3"
   ]
  },
  {
   "cell_type": "code",
   "execution_count": null,
   "metadata": {},
   "outputs": [],
   "source": [
    "#La función pack_books se ejecutará de la siguiente manera:\n",
    "# la función warehouse_decorator ('kraft') devolverá la función de envoltura;\n",
    "# la función de envoltura devuelta tomará la función que se supone que decorará como argumento;\n",
    "# la función contenedora devolverá la función internal_wrapper, que agrega nueva funcionalidad\n",
    "# (visualización de material) y ejecuta la función decorada.\n",
    "\n",
    "\n",
    "def warehouse_decorator(material):\n",
    "    def wrapper(our_function):\n",
    "        def internal_wrapper(*args):\n",
    "            print('<strong>*</strong> Wrapping items from {} with {}'.format(our_function.__name__, material))\n",
    "            our_function(*args)\n",
    "            print()\n",
    "        return internal_wrapper\n",
    "    return wrapper\n",
    "\n",
    "\n",
    "@warehouse_decorator('kraft')\n",
    "def pack_books(*args):\n",
    "    print(\"We'll pack books:\", args)\n",
    "\n",
    "\n",
    "@warehouse_decorator('foil')\n",
    "def pack_toys(*args):\n",
    "    print(\"We'll pack toys:\", args)\n",
    "\n",
    "\n",
    "@warehouse_decorator('cardboard')\n",
    "def pack_fruits(*args):\n",
    "    print(\"We'll pack fruits:\", args)\n",
    "\n",
    "\n",
    "pack_books('Alice in Wonderland', 'Winnie the Pooh')\n",
    "pack_toys('doll', 'car')\n",
    "pack_fruits('plum', 'pear')\n"
   ]
  },
  {
   "cell_type": "markdown",
   "metadata": {},
   "source": [
    "## Ejemplo 4"
   ]
  },
  {
   "cell_type": "code",
   "execution_count": null,
   "metadata": {},
   "outputs": [],
   "source": [
    "#Apilamiento de decoradores\n",
    "def big_container(collective_material):\n",
    "    def wrapper(our_function):\n",
    "        def internal_wrapper(*args):\n",
    "            our_function(*args)\n",
    "            print('<strong>*</strong> The whole order would be packed with', collective_material)\n",
    "            print()\n",
    "\n",
    "        return internal_wrapper\n",
    "\n",
    "    return wrapper\n",
    "\n",
    "\n",
    "def warehouse_decorator(material):\n",
    "    def wrapper(our_function):\n",
    "        def internal_wrapper(*args):\n",
    "            our_function(*args)\n",
    "            print('<strong>*</strong> Wrapping items from {} with {}'.format(our_function.__name__, material))\n",
    "\n",
    "        return internal_wrapper\n",
    "\n",
    "    return wrapper\n",
    "\n",
    "\n",
    "@big_container('plain cardboard')\n",
    "@warehouse_decorator('bubble foil')\n",
    "def pack_books(*args):\n",
    "    print(\"We'll pack books:\", args)\n",
    "\n",
    "\n",
    "@big_container('colourful cardboard')\n",
    "@warehouse_decorator('foil')\n",
    "def pack_toys(*args):\n",
    "    print(\"We'll pack toys:\", args)\n",
    "\n",
    "\n",
    "@big_container('strong cardboard')\n",
    "@warehouse_decorator('cardboard')\n",
    "def pack_fruits(*args):\n",
    "    print(\"We'll pack fruits:\", args)\n",
    "\n",
    "\n",
    "pack_books('Alice in Wonderland', 'Winnie the Pooh')\n",
    "pack_toys('doll', 'car')\n",
    "pack_fruits('plum', 'pear')\n"
   ]
  },
  {
   "cell_type": "markdown",
   "metadata": {},
   "source": [
    "## Ejemplo 5"
   ]
  },
  {
   "cell_type": "code",
   "execution_count": null,
   "metadata": {},
   "outputs": [],
   "source": [
    "#Decoradores de clase\n",
    "class SimpleDecorator:\n",
    "    def __init__(self, own_function):\n",
    "        self.func = own_function\n",
    "\n",
    "    def __call__(self, *args, **kwargs):\n",
    "        print('\"{}\" was called with the following arguments'.format(self.func.__name__))\n",
    "        print('\\t{}\\n\\t{}\\n'.format(args, kwargs))\n",
    "        self.func(*args, **kwargs)\n",
    "        print('Decorator is still operating')\n",
    "\n",
    "\n",
    "@SimpleDecorator\n",
    "def combiner(*args, **kwargs):\n",
    "    print(\"\\tHello from the decorated function; received arguments:\", args, kwargs)\n",
    "\n",
    "\n",
    "combiner('a', 'b', exec='yes')"
   ]
  },
  {
   "cell_type": "markdown",
   "metadata": {},
   "source": [
    "## Ejemplo 6"
   ]
  },
  {
   "cell_type": "code",
   "execution_count": null,
   "metadata": {},
   "outputs": [],
   "source": [
    "def object_counter(class_):\n",
    "    #Se crea un metodo que va a copiar a __getattribute__\n",
    "    class_.__getattr__orig = class_.__getattribute__\n",
    "\n",
    "    #Se crea un nuevo metodo que tomara el papel de __getattribute___ el cual tomara el nombre del atributo\n",
    "    def new_getattr(self, name):\n",
    "        #Puede ser un poco confuso, pero como se toma el objeto, digamos que el valores del atributo va a ser el\n",
    "        #nombre del atributo por como se llama\n",
    "        if name == 'mileage':\n",
    "            print('We noticed that the mileage attribute was read')\n",
    "        #retorna el metodo original para que, pueda regresar el valor de atributo\n",
    "        return class_.__getattr__orig(self, name)\n",
    "    #Se define que __getattribute__ pasa a ser new_getattr\n",
    "    class_.__getattribute__ = new_getattr\n",
    "    #Se devuelve el objeto decorado\n",
    "    return class_\n",
    "\n",
    "\n",
    "@object_counter\n",
    "class Car:\n",
    "    def __init__(self, VIN):\n",
    "        self.mileage = 0\n",
    "        self.VIN = VIN\n",
    "\n",
    "car = Car('ABC123')\n",
    "print('The mileage is', car.mileage)\n",
    "print('The VIN is', car.VIN)"
   ]
  }
 ],
 "metadata": {
  "interpreter": {
   "hash": "21e2b306ac38479bf081e2e54b18866e36f015b4544119a27eb6cb52b6571e97"
  },
  "kernelspec": {
   "display_name": "Python 3.10.0 64-bit",
   "language": "python",
   "name": "python3"
  },
  "language_info": {
   "codemirror_mode": {
    "name": "ipython",
    "version": 3
   },
   "file_extension": ".py",
   "mimetype": "text/x-python",
   "name": "python",
   "nbconvert_exporter": "python",
   "pygments_lexer": "ipython3",
   "version": "3.10.0"
  },
  "orig_nbformat": 4
 },
 "nbformat": 4,
 "nbformat_minor": 2
}
