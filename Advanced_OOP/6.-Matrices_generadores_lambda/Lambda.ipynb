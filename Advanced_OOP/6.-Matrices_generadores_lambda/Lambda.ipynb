{
 "cells": [
  {
   "cell_type": "markdown",
   "metadata": {},
   "source": [
    "# Lambda\n"
   ]
  },
  {
   "cell_type": "code",
   "execution_count": null,
   "metadata": {},
   "outputs": [],
   "source": [
    "from random import seed, randint\n",
    "\n",
    "# seed es el generador de nuemros aleatorios\n",
    "seed()\n",
    "# Aqui ex una lista generada con numeros aletorios del -10 al 10\n",
    "data = [randint(-10, 10) for x in range(5)]\n",
    "# Aqui es donde la var filtered creara una lista donde la funcion filter necesita dos argumentos, la funcion lambda\n",
    "# y la lista donde se especifica que solo sera True si el numero es la lista data es mayor a 0 y no tiene residuo\n",
    "# Al momento de dividir, al imprimir las listas, filtered solo imprime los numeros que cumplen con lo requisitos\n",
    "# especificados en el funcion lambda\n",
    "filtered = list(filter(lambda x: x > 0 and x % 2 == 0, data))\n",
    "print(data)\n",
    "print(filtered)"
   ]
  },
  {
   "cell_type": "code",
   "execution_count": null,
   "metadata": {},
   "outputs": [],
   "source": []
  }
 ],
 "metadata": {
  "language_info": {
   "name": "python"
  },
  "orig_nbformat": 4
 },
 "nbformat": 4,
 "nbformat_minor": 2
}
